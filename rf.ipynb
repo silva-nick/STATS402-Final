{
 "cells": [
  {
   "cell_type": "markdown",
   "metadata": {},
   "source": [
    "## Random Forest Analysis"
   ]
  },
  {
   "cell_type": "code",
   "execution_count": 76,
   "metadata": {},
   "outputs": [],
   "source": [
    "import pandas as pd\n",
    "import numpy as np\n",
    "from sklearn.ensemble import RandomForestRegressor\n",
    "from sklearn.metrics import mean_squared_error\n",
    "import matplotlib.pyplot as plt"
   ]
  },
  {
   "cell_type": "code",
   "execution_count": 77,
   "metadata": {},
   "outputs": [
    {
     "data": {
      "text/html": [
       "<div>\n",
       "<style scoped>\n",
       "    .dataframe tbody tr th:only-of-type {\n",
       "        vertical-align: middle;\n",
       "    }\n",
       "\n",
       "    .dataframe tbody tr th {\n",
       "        vertical-align: top;\n",
       "    }\n",
       "\n",
       "    .dataframe thead th {\n",
       "        text-align: right;\n",
       "    }\n",
       "</style>\n",
       "<table border=\"1\" class=\"dataframe\">\n",
       "  <thead>\n",
       "    <tr style=\"text-align: right;\">\n",
       "      <th></th>\n",
       "      <th>MinTemp</th>\n",
       "      <th>MaxTemp</th>\n",
       "      <th>Rainfall</th>\n",
       "      <th>WindGustDir</th>\n",
       "      <th>WindGustSpeed</th>\n",
       "      <th>WindDir</th>\n",
       "      <th>WindSpeed</th>\n",
       "      <th>Humidity</th>\n",
       "      <th>Pressure</th>\n",
       "      <th>Temp</th>\n",
       "      <th>RainToday</th>\n",
       "      <th>RISK_MM</th>\n",
       "      <th>RainTomorrow</th>\n",
       "      <th>is9AM</th>\n",
       "    </tr>\n",
       "    <tr>\n",
       "      <th>Date</th>\n",
       "      <th></th>\n",
       "      <th></th>\n",
       "      <th></th>\n",
       "      <th></th>\n",
       "      <th></th>\n",
       "      <th></th>\n",
       "      <th></th>\n",
       "      <th></th>\n",
       "      <th></th>\n",
       "      <th></th>\n",
       "      <th></th>\n",
       "      <th></th>\n",
       "      <th></th>\n",
       "      <th></th>\n",
       "    </tr>\n",
       "  </thead>\n",
       "  <tbody>\n",
       "    <tr>\n",
       "      <th>2008-07-01</th>\n",
       "      <td>9.5</td>\n",
       "      <td>15.4</td>\n",
       "      <td>2.0</td>\n",
       "      <td>12.0</td>\n",
       "      <td>63.0</td>\n",
       "      <td>12.0</td>\n",
       "      <td>37.0</td>\n",
       "      <td>60.0</td>\n",
       "      <td>1006.8</td>\n",
       "      <td>11.0</td>\n",
       "      <td>1</td>\n",
       "      <td>0.6</td>\n",
       "      <td>0</td>\n",
       "      <td>1</td>\n",
       "    </tr>\n",
       "    <tr>\n",
       "      <th>2008-07-02</th>\n",
       "      <td>11.0</td>\n",
       "      <td>14.5</td>\n",
       "      <td>0.6</td>\n",
       "      <td>12.0</td>\n",
       "      <td>63.0</td>\n",
       "      <td>12.0</td>\n",
       "      <td>30.0</td>\n",
       "      <td>66.0</td>\n",
       "      <td>1013.4</td>\n",
       "      <td>11.8</td>\n",
       "      <td>0</td>\n",
       "      <td>1.4</td>\n",
       "      <td>1</td>\n",
       "      <td>1</td>\n",
       "    </tr>\n",
       "    <tr>\n",
       "      <th>2008-07-03</th>\n",
       "      <td>8.4</td>\n",
       "      <td>14.1</td>\n",
       "      <td>1.4</td>\n",
       "      <td>12.0</td>\n",
       "      <td>39.0</td>\n",
       "      <td>12.0</td>\n",
       "      <td>17.0</td>\n",
       "      <td>72.0</td>\n",
       "      <td>1024.8</td>\n",
       "      <td>10.6</td>\n",
       "      <td>1</td>\n",
       "      <td>0.6</td>\n",
       "      <td>0</td>\n",
       "      <td>1</td>\n",
       "    </tr>\n",
       "    <tr>\n",
       "      <th>2008-07-04</th>\n",
       "      <td>9.1</td>\n",
       "      <td>14.5</td>\n",
       "      <td>0.6</td>\n",
       "      <td>4.0</td>\n",
       "      <td>19.0</td>\n",
       "      <td>15.0</td>\n",
       "      <td>9.0</td>\n",
       "      <td>87.0</td>\n",
       "      <td>1030.2</td>\n",
       "      <td>10.2</td>\n",
       "      <td>0</td>\n",
       "      <td>0.0</td>\n",
       "      <td>0</td>\n",
       "      <td>1</td>\n",
       "    </tr>\n",
       "    <tr>\n",
       "      <th>2008-07-05</th>\n",
       "      <td>4.3</td>\n",
       "      <td>15.5</td>\n",
       "      <td>0.0</td>\n",
       "      <td>0.0</td>\n",
       "      <td>52.0</td>\n",
       "      <td>0.0</td>\n",
       "      <td>24.0</td>\n",
       "      <td>81.0</td>\n",
       "      <td>1028.9</td>\n",
       "      <td>5.5</td>\n",
       "      <td>0</td>\n",
       "      <td>0.0</td>\n",
       "      <td>0</td>\n",
       "      <td>1</td>\n",
       "    </tr>\n",
       "  </tbody>\n",
       "</table>\n",
       "</div>"
      ],
      "text/plain": [
       "            MinTemp  MaxTemp  Rainfall  WindGustDir  WindGustSpeed  WindDir  \\\n",
       "Date                                                                          \n",
       "2008-07-01      9.5     15.4       2.0         12.0           63.0     12.0   \n",
       "2008-07-02     11.0     14.5       0.6         12.0           63.0     12.0   \n",
       "2008-07-03      8.4     14.1       1.4         12.0           39.0     12.0   \n",
       "2008-07-04      9.1     14.5       0.6          4.0           19.0     15.0   \n",
       "2008-07-05      4.3     15.5       0.0          0.0           52.0      0.0   \n",
       "\n",
       "            WindSpeed  Humidity  Pressure  Temp  RainToday  RISK_MM  \\\n",
       "Date                                                                  \n",
       "2008-07-01       37.0      60.0    1006.8  11.0          1      0.6   \n",
       "2008-07-02       30.0      66.0    1013.4  11.8          0      1.4   \n",
       "2008-07-03       17.0      72.0    1024.8  10.6          1      0.6   \n",
       "2008-07-04        9.0      87.0    1030.2  10.2          0      0.0   \n",
       "2008-07-05       24.0      81.0    1028.9   5.5          0      0.0   \n",
       "\n",
       "            RainTomorrow  is9AM  \n",
       "Date                             \n",
       "2008-07-01             0      1  \n",
       "2008-07-02             1      1  \n",
       "2008-07-03             0      1  \n",
       "2008-07-04             0      1  \n",
       "2008-07-05             0      1  "
      ]
     },
     "execution_count": 77,
     "metadata": {},
     "output_type": "execute_result"
    }
   ],
   "source": [
    "df = pd.read_csv(\"./weatherAUS_cleaned.csv\", index_col=\"Date\")\n",
    "df_melb = df[df.Location == \"Melbourne\"].copy().drop(columns=[\"Location\"])\n",
    "df_melb.head()"
   ]
  },
  {
   "cell_type": "code",
   "execution_count": 78,
   "metadata": {},
   "outputs": [],
   "source": [
    "# shift dataframes to make supervisable\n",
    "def shift_ts_data(df, n_train_days=1, n_pred_days=1):\n",
    "    df_temp = df.copy()\n",
    "    cols = list()\n",
    "    for i in range(n_train_days, 0, -1):\n",
    "        cols.append(df_temp.shift(i))\n",
    "    for i in range(0, n_pred_days):\n",
    "        cols.append(df_temp.shift(-i))\n",
    "    agg = pd.concat(cols, axis=1)\n",
    "    return agg.values"
   ]
  },
  {
   "cell_type": "code",
   "execution_count": 79,
   "metadata": {},
   "outputs": [],
   "source": [
    "# Make prediction for single value\n",
    "def rf_prediction(train, testX, pred_idx=-1):\n",
    "    train = np.asarray(train)\n",
    "    X, y = train[:, :pred_idx], train[:, pred_idx]\n",
    "    model = RandomForestRegressor(n_estimators=800)\n",
    "    model.fit(X, y)\n",
    "    return model.predict([testX])[0]\n",
    "\n",
    "# Run model on dataset\n",
    "def validate_rf(data, test_size=None, pred_idx=-1):\n",
    "    if test_size is None:\n",
    "        test_size = 0\n",
    "    if type(test_size) is float:\n",
    "        test_size = min(int(len(data) * test_size), len(data))\n",
    "\n",
    "    train, test = data[:-test_size, :], data[-test_size:, :]\n",
    "    prev_samples = train.tolist()\n",
    "    predictions = list()\n",
    "    for i in range(test_size):\n",
    "        X, y = test[i, :pred_idx], test[i, pred_idx]\n",
    "        y_hat = rf_prediction(prev_samples, X)\n",
    "        predictions.append(y_hat)\n",
    "        prev_samples.append(test[i])\n",
    "        print(\"===={}% done====\".format(i * 100 / test_size))\n",
    "\n",
    "    MSE = mean_squared_error(test[:, pred_idx], predictions)\n",
    "    return MSE, test[:, pred_idx], predictions"
   ]
  },
  {
   "cell_type": "code",
   "execution_count": 80,
   "metadata": {},
   "outputs": [
    {
     "name": "stdout",
     "output_type": "stream",
     "text": [
      "====0.0% done====\n",
      "====6.666666666666667% done====\n",
      "====13.333333333333334% done====\n",
      "====20.0% done====\n",
      "====26.666666666666668% done====\n",
      "====33.333333333333336% done====\n",
      "====40.0% done====\n",
      "====46.666666666666664% done====\n",
      "====53.333333333333336% done====\n",
      "====60.0% done====\n",
      "====66.66666666666667% done====\n",
      "====73.33333333333333% done====\n",
      "====80.0% done====\n",
      "====86.66666666666667% done====\n",
      "====93.33333333333333% done====\n",
      "MSE: 0.000\n"
     ]
    },
    {
     "data": {
      "image/png": "[encoded data removed]",
      "text/plain": [
       "<Figure size 432x288 with 1 Axes>"
      ]
     },
     "metadata": {
      "needs_background": "light"
     },
     "output_type": "display_data"
    }
   ],
   "source": [
    "shift_melb = shift_ts_data(df_melb, n_train_days=2)\n",
    "shift_melb = shift_melb[~np.isnan(shift_melb).any(axis=1)]\n",
    "shift_melb = np.delete(shift_melb, -1, 1)\n",
    "\n",
    "MSE, y, y_hat = validate_rf(shift_melb, 15, -1)\n",
    "\n",
    "print('MSE: %.3f' % MSE)\n",
    "# plot expected vs predicted\n",
    "plt.plot(y, label='Expected')\n",
    "plt.plot(y_hat, label='Predicted')\n",
    "plt.legend()\n",
    "plt.show()"
   ]
  },
  {
   "cell_type": "code",
   "execution_count": 81,
   "metadata": {},
   "outputs": [
    {
     "name": "stdout",
     "output_type": "stream",
     "text": [
      "(6729, 41)\n"
     ]
    }
   ],
   "source": [
    "print(shift_melb.shape)"
   ]
  }
 ],
 "metadata": {
  "kernelspec": {
   "display_name": "Python 3.9.7 ('bergin')",
   "language": "python",
   "name": "python3"
  },
  "language_info": {
   "codemirror_mode": {
    "name": "ipython",
    "version": 3
   },
   "file_extension": ".py",
   "mimetype": "text/x-python",
   "name": "python",
   "nbconvert_exporter": "python",
   "pygments_lexer": "ipython3",
   "version": "3.9.7"
  },
  "orig_nbformat": 4,
  "vscode": {
   "interpreter": {
    "hash": "eb5bf067e956e4ecbf583db2c2aaf0f3744fa710d301644b135ea2a2e3b867bb"
   }
  }
 },
 "nbformat": 4,
 "nbformat_minor": 2
}
